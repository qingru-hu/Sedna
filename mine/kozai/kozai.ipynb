{
 "cells": [
  {
   "cell_type": "code",
   "execution_count": 1,
   "metadata": {},
   "outputs": [],
   "source": [
    "import rebound\n",
    "import numpy as np\n",
    "import os"
   ]
  },
  {
   "cell_type": "code",
   "execution_count": 121,
   "metadata": {},
   "outputs": [],
   "source": [
    "# We use a global variable to store the value of the eccentricity\n",
    "global planet_e_s, mutual_inc\n",
    "planet_e_s, mutual_inc = [], []\n",
    "def heartbeat(sim_pointer):\n",
    "    # The function argument is a pointer to the simulation:\n",
    "    # Here we get its contents:\n",
    "    sim = sim_pointer.contents\n",
    "    # e = sim.particles[2].e\n",
    "    planet_e_s.append(sim.particles[1].e)\n",
    "    \n",
    "    orbits = sim.orbits()\n",
    "    mutual_inc.append(orbits[1].inc-orbits[0].inc)"
   ]
  },
  {
   "cell_type": "code",
   "execution_count": 3,
   "metadata": {},
   "outputs": [],
   "source": [
    "sim.stop_server()\n",
    "del sim"
   ]
  },
  {
   "cell_type": "code",
   "execution_count": 2,
   "metadata": {},
   "outputs": [
    {
     "name": "stdout",
     "output_type": "stream",
     "text": [
      "REBOUND Webserver listening on http://localhost:1234 ...\n"
     ]
    },
    {
     "data": {
      "text/html": [
       "\n",
       "        <iframe\n",
       "            width=\"400\"\n",
       "            height=\"400\"\n",
       "            src=\"http://localhost:1234\"\n",
       "            frameborder=\"0\"\n",
       "            allowfullscreen\n",
       "            \n",
       "        ></iframe>\n",
       "        "
      ],
      "text/plain": [
       "<IPython.lib.display.IFrame at 0x7faa2067c9d0>"
      ]
     },
     "metadata": {},
     "output_type": "display_data"
    }
   ],
   "source": [
    "sim = rebound.Simulation()\n",
    "# sim.start_server(port=1234)\n",
    "sim.widget(size=(400,400))\n",
    "\n",
    "sim.dt = np.pi*1e-2\n",
    "sim.integrator = \"ias15\"\n",
    "sim.add(m=1.)\n",
    "sim.add(m=1.e-3, a=10)\n",
    "sim.add(primary=sim.particles[0], m=1e-5, a=1, e=0.01, inc=75/180*np.pi)\n",
    "sim.move_to_com()"
   ]
  },
  {
   "cell_type": "code",
   "execution_count": 4,
   "metadata": {},
   "outputs": [
    {
     "ename": "KeyboardInterrupt",
     "evalue": "",
     "output_type": "error",
     "traceback": [
      "\u001b[0;31m---------------------------------------------------------------------------\u001b[0m",
      "\u001b[0;31mKeyboardInterrupt\u001b[0m                         Traceback (most recent call last)",
      "Cell \u001b[0;32mIn[4], line 1\u001b[0m\n\u001b[0;32m----> 1\u001b[0m \u001b[43msim\u001b[49m\u001b[38;5;241;43m.\u001b[39;49m\u001b[43mintegrate\u001b[49m\u001b[43m(\u001b[49m\u001b[38;5;241;43m1e8\u001b[39;49m\u001b[43m)\u001b[49m\n",
      "File \u001b[0;32m~/anaconda3/envs/rebound/lib/python3.8/site-packages/rebound/simulation.py:1414\u001b[0m, in \u001b[0;36mSimulation.integrate\u001b[0;34m(self, tmax, exact_finish_time)\u001b[0m\n\u001b[1;32m   1412\u001b[0m     \u001b[38;5;28;01mpass\u001b[39;00m \u001b[38;5;66;03m# User caused exit. Do not raise error message\u001b[39;00m\n\u001b[1;32m   1413\u001b[0m \u001b[38;5;28;01mif\u001b[39;00m ret_value \u001b[38;5;241m==\u001b[39m \u001b[38;5;241m6\u001b[39m:\n\u001b[0;32m-> 1414\u001b[0m     \u001b[38;5;28;01mraise\u001b[39;00m \u001b[38;5;167;01mKeyboardInterrupt\u001b[39;00m\n\u001b[1;32m   1415\u001b[0m \u001b[38;5;28;01mif\u001b[39;00m ret_value \u001b[38;5;241m==\u001b[39m \u001b[38;5;241m7\u001b[39m:\n\u001b[1;32m   1416\u001b[0m     \u001b[38;5;28;01mraise\u001b[39;00m Collision(\u001b[38;5;124m\"\u001b[39m\u001b[38;5;124mTwo particles collided (d < r1+r2)\u001b[39m\u001b[38;5;124m\"\u001b[39m)\n",
      "\u001b[0;31mKeyboardInterrupt\u001b[0m: "
     ]
    }
   ],
   "source": [
    "sim.integrate(1e8)"
   ]
  },
  {
   "cell_type": "code",
   "execution_count": 122,
   "metadata": {},
   "outputs": [],
   "source": [
    "sim = rebound.Simulation()\n",
    "# Start the visualization web server.\n",
    "# Point your browser to http://localhost:1234\n",
    "sim.start_server(port=1234)\n",
    "\n",
    "# Setup constants\n",
    "sim.dt = np.pi*1e-2\n",
    "sim.integrator = \"ias15\"\n",
    "sim.heartbeat = heartbeat\n",
    "\n",
    "# Initial conditions\n",
    "# Central object\n",
    "sim.add(m=1.)\n",
    "star = sim.particles[0]\n",
    "# test particle (inner planet)\n",
    "sim.add(m=1e-3, a=1. ,e=0.)\n",
    "planet = sim.particles[1]\n",
    "# outer perturber\n",
    "inc_p = 85\n",
    "m_p = 1\n",
    "a_p = 10.\n",
    "vy_p = np.cos(inc_p/180.*np.pi)*np.sqrt((star.m+m_p)/a_p)\n",
    "vz_p = np.sin(inc_p/180.*np.pi)*np.sqrt((star.m+m_p)/a_p)\n",
    "sim.add(m=m_p, x=a_p, vy=vy_p, vz=vz_p) # perturber"
   ]
  },
  {
   "cell_type": "code",
   "execution_count": 123,
   "metadata": {},
   "outputs": [],
   "source": [
    "sim.move_to_com()"
   ]
  },
  {
   "cell_type": "code",
   "execution_count": 124,
   "metadata": {},
   "outputs": [
    {
     "name": "stdout",
     "output_type": "stream",
     "text": [
      "758020\n",
      "9.871681999965348\n"
     ]
    }
   ],
   "source": [
    "sim.integrate(1e5)\n",
    "print(sim.steps_done)\n",
    "print(sim.walltime)"
   ]
  },
  {
   "cell_type": "code",
   "execution_count": 125,
   "metadata": {},
   "outputs": [],
   "source": [
    "planet_e_s = np.array(planet_e_s)\n",
    "# print(planet_e_s)\n",
    "np.savetxt('planet_e.txt', planet_e_s)"
   ]
  },
  {
   "cell_type": "code",
   "execution_count": null,
   "metadata": {},
   "outputs": [],
   "source": [
    "mutual_inc = np.array(mutual_inc)\n",
    "# print(planet_e_s)\n",
    "np.savetxt('mutual_inc.txt', mutual_inc)"
   ]
  },
  {
   "cell_type": "code",
   "execution_count": null,
   "metadata": {},
   "outputs": [],
   "source": [
    "# num = sim.steps_done//10\n",
    "# print(num)\n",
    "# sim.save_to_file(f\"kozai_{num}.bin\", step=10)"
   ]
  },
  {
   "cell_type": "code",
   "execution_count": null,
   "metadata": {},
   "outputs": [],
   "source": [
    "sim = None"
   ]
  }
 ],
 "metadata": {
  "kernelspec": {
   "display_name": "rebound",
   "language": "python",
   "name": "python3"
  },
  "language_info": {
   "codemirror_mode": {
    "name": "ipython",
    "version": 3
   },
   "file_extension": ".py",
   "mimetype": "text/x-python",
   "name": "python",
   "nbconvert_exporter": "python",
   "pygments_lexer": "ipython3",
   "version": "3.8.18"
  }
 },
 "nbformat": 4,
 "nbformat_minor": 2
}
