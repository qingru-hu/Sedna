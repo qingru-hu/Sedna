{
 "cells": [
  {
   "cell_type": "code",
   "execution_count": 1,
   "metadata": {},
   "outputs": [],
   "source": [
    "import numpy as np"
   ]
  },
  {
   "cell_type": "code",
   "execution_count": 2,
   "metadata": {},
   "outputs": [],
   "source": [
    "# all the constants are in CGS units\n",
    "# physical constants\n",
    "sigma = 5.67051e-5 # Stefan-Boltzmann constant erg cm-2 K-4 s-1\n",
    "k = 1.380658e-16 # Boltzmann constant erg k-1\n",
    "m_u = 1.6605402e-24 # Atomic mass unit g\n",
    "G = 6.67259e-8 # Gravitational constant cm3 g-1 s-2\n",
    "h = 6.6260755e-27 # Planck constant erg s\n",
    "hbar = 1.05457266e-27\n",
    "c = 2.99792458e10 # speed of light in a vacuum cm s-1\n",
    "year = 31556926\n",
    "pc = 3.086e18\n",
    "a0 = 5.29177e-9 # cm\n",
    "eV = 1.6021772e-12 # erg\n",
    "\n",
    "e = 4.8032068e-10 # Electron charge esu\n",
    "m_e = 9.1093897e-28 # Mass of electron g\n",
    "# distance\n",
    "au = 1.496e13\n",
    "\n",
    "# earth\n",
    "r_earth = 6.378e8 # cm\n",
    "m_earth = 5.974e27 # g\n",
    "m_j_r = 317.89\n",
    "\n",
    "# sun\n",
    "m_sun = 1.99e33\n",
    "r_sun = 6.96e10 # cm\n",
    "L_sun = 3.9e33 # Solar luminosity erg s-1\n"
   ]
  },
  {
   "cell_type": "code",
   "execution_count": 6,
   "metadata": {},
   "outputs": [],
   "source": [
    "mu = G*2*m_sun\n",
    "v_inf = 1e5 # cm/s\n",
    "q = 300*au # cm\n",
    "m = m_sun\n",
    "M = m_sun"
   ]
  },
  {
   "cell_type": "code",
   "execution_count": 12,
   "metadata": {},
   "outputs": [
    {
     "name": "stdout",
     "output_type": "stream",
     "text": [
      "a = -1775.19 au\n"
     ]
    }
   ],
   "source": [
    "a = -mu/v_inf**2 # cm\n",
    "print(\"a = %.2f au\"%(a/au))"
   ]
  },
  {
   "cell_type": "code",
   "execution_count": 11,
   "metadata": {},
   "outputs": [
    {
     "name": "stdout",
     "output_type": "stream",
     "text": [
      "e = 1.17\n"
     ]
    }
   ],
   "source": [
    "e = 1-q/a\n",
    "print(\"e = %.2f\"%e)"
   ]
  },
  {
   "cell_type": "code",
   "execution_count": 15,
   "metadata": {},
   "outputs": [
    {
     "name": "stdout",
     "output_type": "stream",
     "text": [
      "b = 1074.76 au\n"
     ]
    }
   ],
   "source": [
    "b = -a*np.sqrt(e**2-1) # cm\n",
    "print('b = {:.2f} au'.format(b/au))"
   ]
  },
  {
   "cell_type": "code",
   "execution_count": 37,
   "metadata": {},
   "outputs": [
    {
     "name": "stdout",
     "output_type": "stream",
     "text": [
      "initial vx in rebound: 0 AU/(yr/2pi)\n"
     ]
    }
   ],
   "source": [
    "# 计算vx的初始值\n",
    "vx = 1*(1e5 / au)*(year/(2*np.pi) / 1)\n",
    "print('initial vx in rebound: %d AU/(yr/2pi)'%vx)"
   ]
  },
  {
   "cell_type": "code",
   "execution_count": 16,
   "metadata": {},
   "outputs": [
    {
     "data": {
      "text/plain": [
       "2.4875e+42"
      ]
     },
     "execution_count": 16,
     "metadata": {},
     "output_type": "execute_result"
    }
   ],
   "source": [
    "l = b*v_inf\n",
    "k = G*M\n",
    "E = m*k**2*(e**2-1)/(2*l**2)\n",
    "E"
   ]
  }
 ],
 "metadata": {
  "kernelspec": {
   "display_name": "rebound",
   "language": "python",
   "name": "python3"
  },
  "language_info": {
   "codemirror_mode": {
    "name": "ipython",
    "version": 3
   },
   "file_extension": ".py",
   "mimetype": "text/x-python",
   "name": "python",
   "nbconvert_exporter": "python",
   "pygments_lexer": "ipython3",
   "version": "3.8.18"
  }
 },
 "nbformat": 4,
 "nbformat_minor": 2
}
